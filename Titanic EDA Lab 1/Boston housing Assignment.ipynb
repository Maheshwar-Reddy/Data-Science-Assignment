{
 "metadata": {
  "name": "",
  "signature": "sha256:506be8c069a33a454f8c69a0bf2fae22f071cc21cb07bb21d98167a5c18a4c91"
 },
 "nbformat": 3,
 "nbformat_minor": 0,
 "worksheets": [
  {
   "cells": [
    {
     "cell_type": "code",
     "collapsed": false,
     "input": [
      "from sklearn import datasets\n",
      "import pandas as pd\n",
      "%pylab inline\n",
      "from sklearn.preprocessing import StandardScaler\n",
      "from sklearn.cross_validation import train_test_split\n",
      "from sklearn.metrics import mean_squared_error\n",
      "from sklearn.metrics import r2_score\n",
      "from sklearn.linear_model import LinearRegression\n",
      "from sklearn.linear_model import Lasso\n",
      "import numpy as np\n",
      "from matplotlib import pyplot as plt\n",
      "from IPython.display import display\n",
      "from sklearn.neighbors import KNeighborsRegressor\n"
     ],
     "language": "python",
     "metadata": {},
     "outputs": [
      {
       "output_type": "stream",
       "stream": "stdout",
       "text": [
        "Populating the interactive namespace from numpy and matplotlib\n"
       ]
      },
      {
       "output_type": "stream",
       "stream": "stderr",
       "text": [
        "WARNING: pylab import has clobbered these variables: ['clf']\n",
        "`%matplotlib` prevents importing * from pylab and numpy\n"
       ]
      }
     ],
     "prompt_number": 35
    },
    {
     "cell_type": "code",
     "collapsed": false,
     "input": [
      "from sklearn.datasets import load_boston\n",
      "boston = datasets.load_boston()\n",
      "print boston.DESCR"
     ],
     "language": "python",
     "metadata": {},
     "outputs": [
      {
       "output_type": "stream",
       "stream": "stdout",
       "text": [
        "Boston House Prices dataset\n",
        "\n",
        "Notes\n",
        "------\n",
        "Data Set Characteristics:  \n",
        "\n",
        "    :Number of Instances: 506 \n",
        "\n",
        "    :Number of Attributes: 13 numeric/categorical predictive\n",
        "    \n",
        "    :Median Value (attribute 14) is usually the target\n",
        "\n",
        "    :Attribute Information (in order):\n",
        "        - CRIM     per capita crime rate by town\n",
        "        - ZN       proportion of residential land zoned for lots over 25,000 sq.ft.\n",
        "        - INDUS    proportion of non-retail business acres per town\n",
        "        - CHAS     Charles River dummy variable (= 1 if tract bounds river; 0 otherwise)\n",
        "        - NOX      nitric oxides concentration (parts per 10 million)\n",
        "        - RM       average number of rooms per dwelling\n",
        "        - AGE      proportion of owner-occupied units built prior to 1940\n",
        "        - DIS      weighted distances to five Boston employment centres\n",
        "        - RAD      index of accessibility to radial highways\n",
        "        - TAX      full-value property-tax rate per $10,000\n",
        "        - PTRATIO  pupil-teacher ratio by town\n",
        "        - B        1000(Bk - 0.63)^2 where Bk is the proportion of blacks by town\n",
        "        - LSTAT    % lower status of the population\n",
        "        - MEDV     Median value of owner-occupied homes in $1000's\n",
        "\n",
        "    :Missing Attribute Values: None\n",
        "\n",
        "    :Creator: Harrison, D. and Rubinfeld, D.L.\n",
        "\n",
        "This is a copy of UCI ML housing dataset.\n",
        "http://archive.ics.uci.edu/ml/datasets/Housing\n",
        "\n",
        "\n",
        "This dataset was taken from the StatLib library which is maintained at Carnegie Mellon University.\n",
        "\n",
        "The Boston house-price data of Harrison, D. and Rubinfeld, D.L. 'Hedonic\n",
        "prices and the demand for clean air', J. Environ. Economics & Management,\n",
        "vol.5, 81-102, 1978.   Used in Belsley, Kuh & Welsch, 'Regression diagnostics\n",
        "...', Wiley, 1980.   N.B. Various transformations are used in the table on\n",
        "pages 244-261 of the latter.\n",
        "\n",
        "The Boston house-price data has been used in many machine learning papers that address regression\n",
        "problems.   \n",
        "     \n",
        "**References**\n",
        "\n",
        "   - Belsley, Kuh & Welsch, 'Regression diagnostics: Identifying Influential Data and Sources of Collinearity', Wiley, 1980. 244-261.\n",
        "   - Quinlan,R. (1993). Combining Instance-Based and Model-Based Learning. In Proceedings on the Tenth International Conference of Machine Learning, 236-243, University of Massachusetts, Amherst. Morgan Kaufmann.\n",
        "   - many more! (see http://archive.ics.uci.edu/ml/datasets/Housing)\n",
        "\n"
       ]
      }
     ],
     "prompt_number": 36
    },
    {
     "cell_type": "code",
     "collapsed": false,
     "input": [
      "train_data, test_data, train_target, test_target = \\\n",
      "train_test_split(boston.data, boston.target, train_size=.8)\n",
      "train_data.shape"
     ],
     "language": "python",
     "metadata": {},
     "outputs": [
      {
       "metadata": {},
       "output_type": "pyout",
       "prompt_number": 37,
       "text": [
        "(404L, 13L)"
       ]
      }
     ],
     "prompt_number": 37
    },
    {
     "cell_type": "code",
     "collapsed": false,
     "input": [
      "from sklearn import datasets\n",
      "boston = datasets.load_boston()\n",
      "X = boston.data\n",
      "y = boston.target\n",
      "\n",
      "print X.shape\n",
      "print y.shape"
     ],
     "language": "python",
     "metadata": {},
     "outputs": [
      {
       "output_type": "stream",
       "stream": "stdout",
       "text": [
        "(506L, 13L)\n",
        "(506L,)\n"
       ]
      }
     ],
     "prompt_number": 38
    },
    {
     "cell_type": "code",
     "collapsed": false,
     "input": [
      "def load_boston():\n",
      "    scaler = StandardScaler()\n",
      "    boston = datasets.load_boston()\n",
      "    X=boston.data\n",
      "    y=boston.target\n",
      "    X = scaler.fit_transform(X)\n",
      "    return train_test_split(X,y)\n",
      "X_train, X_test, y_train, y_test = load_boston()\n",
      "clf = LinearRegression()\n",
      "clf.fit(X_train, y_train)\n",
      "zip (y_test, clf.predict(X_test))\n"
     ],
     "language": "python",
     "metadata": {},
     "outputs": [
      {
       "metadata": {},
       "output_type": "pyout",
       "prompt_number": 39,
       "text": [
        "[(17.5, 16.561406260994119),\n",
        " (13.4, 13.550004120684729),\n",
        " (33.299999999999997, 37.15637532773448),\n",
        " (23.600000000000001, 31.621745516959766),\n",
        " (21.5, 21.109243682165157),\n",
        " (29.399999999999999, 30.704346939964619),\n",
        " (25.0, 22.528794807877802),\n",
        " (14.6, 7.0334317412537146),\n",
        " (19.699999999999999, 13.071220702944343),\n",
        " (22.600000000000001, 27.265568796021036),\n",
        " (22.199999999999999, 18.683256305395062),\n",
        " (19.899999999999999, 18.016957701060576),\n",
        " (22.5, 29.834042059810603),\n",
        " (22.600000000000001, 19.984153935631348),\n",
        " (20.199999999999999, 15.237543602552551),\n",
        " (19.199999999999999, 24.493072710539607),\n",
        " (20.300000000000001, 19.51739981954292),\n",
        " (26.699999999999999, 34.061353178102308),\n",
        " (37.299999999999997, 34.697679115026105),\n",
        " (13.0, 17.476801008921157),\n",
        " (13.300000000000001, 13.304575873021081),\n",
        " (7.2000000000000002, 8.257176411586391),\n",
        " (30.5, 31.018662922078846),\n",
        " (36.5, 36.725665367388558),\n",
        " (24.100000000000001, 25.072209166029079),\n",
        " (19.699999999999999, 21.015710223377916),\n",
        " (20.100000000000001, 24.232821701457592),\n",
        " (14.5, 13.363521954782478),\n",
        " (19.399999999999999, 19.700490290458433),\n",
        " (22.0, 21.61621893600287),\n",
        " (24.0, 25.44813675660756),\n",
        " (16.399999999999999, 19.446341227326673),\n",
        " (28.399999999999999, 30.890918357482946),\n",
        " (29.600000000000001, 24.897707732610112),\n",
        " (20.600000000000001, 22.051332554482659),\n",
        " (7.2000000000000002, 17.926436585708913),\n",
        " (23.699999999999999, 7.6449997019863982),\n",
        " (19.399999999999999, 23.233518656993958),\n",
        " (24.300000000000001, 20.097836855121198),\n",
        " (27.899999999999999, 21.366872487079604),\n",
        " (23.800000000000001, 25.030841528223831),\n",
        " (22.199999999999999, 24.936406844015135),\n",
        " (16.600000000000001, 17.745722889112763),\n",
        " (19.600000000000001, 19.954898935448838),\n",
        " (31.5, 31.242515857822273),\n",
        " (20.399999999999999, 19.679978556609534),\n",
        " (29.0, 32.336693278822352),\n",
        " (8.3000000000000007, 13.070886191708265),\n",
        " (25.0, 27.717603149479217),\n",
        " (13.199999999999999, 6.770931804570985),\n",
        " (18.699999999999999, 20.935158407408654),\n",
        " (12.6, 18.690865592933019),\n",
        " (19.300000000000001, 21.702374134798628),\n",
        " (7.0, -6.7771378425482069),\n",
        " (13.800000000000001, 4.8157156346581154),\n",
        " (17.800000000000001, 17.206272312090441),\n",
        " (17.100000000000001, 19.510294041457684),\n",
        " (31.600000000000001, 34.320723257958903),\n",
        " (27.5, 24.924153727914913),\n",
        " (23.100000000000001, 15.265581228530198),\n",
        " (18.899999999999999, 24.056950095156985),\n",
        " (7.2000000000000002, 6.9491406755764622),\n",
        " (15.300000000000001, 20.773623134360857),\n",
        " (22.899999999999999, 25.331720293199375),\n",
        " (8.6999999999999993, 7.8080918599447031),\n",
        " (22.899999999999999, 29.37676053238776),\n",
        " (16.5, 10.591808079745634),\n",
        " (34.600000000000001, 35.510268209438806),\n",
        " (24.300000000000001, 30.93580382379799),\n",
        " (43.5, 40.044979086152757),\n",
        " (25.199999999999999, 26.665255442387011),\n",
        " (13.800000000000001, 17.25697451125426),\n",
        " (23.199999999999999, 25.470378923813378),\n",
        " (7.5, 12.305229269281131),\n",
        " (23.199999999999999, 23.243487084066501),\n",
        " (11.300000000000001, 13.395372424552109),\n",
        " (16.800000000000001, 21.072070926209552),\n",
        " (48.5, 42.646178002889876),\n",
        " (19.800000000000001, 23.08377689167239),\n",
        " (8.8000000000000007, 4.8165029491066562),\n",
        " (21.199999999999999, 21.316725671709307),\n",
        " (19.899999999999999, 20.9794168097255),\n",
        " (19.300000000000001, 20.813810584796983),\n",
        " (21.699999999999999, 20.037640777573042),\n",
        " (10.199999999999999, 16.748756503117395),\n",
        " (11.699999999999999, 14.697588075713123),\n",
        " (15.6, 15.545845302634282),\n",
        " (14.9, 15.192800829406032),\n",
        " (17.100000000000001, 17.441858884648326),\n",
        " (21.199999999999999, 23.677500384856273),\n",
        " (13.800000000000001, -0.92945882788061596),\n",
        " (19.300000000000001, 20.836246281673215),\n",
        " (16.699999999999999, 20.346724246689366),\n",
        " (20.199999999999999, 23.739022070653679),\n",
        " (12.5, 19.603910588564563),\n",
        " (18.800000000000001, 20.459967292642695),\n",
        " (20.5, 24.604307765505077),\n",
        " (19.800000000000001, 21.485089845470533),\n",
        " (29.600000000000001, 24.407202873753896),\n",
        " (28.5, 33.828750730345149),\n",
        " (23.600000000000001, 29.821267928966243),\n",
        " (23.300000000000001, 26.680318136601482),\n",
        " (21.699999999999999, 24.63264271675331),\n",
        " (18.699999999999999, 18.120048204361176),\n",
        " (13.5, 12.930357441423595),\n",
        " (11.5, 14.561892663462368),\n",
        " (19.899999999999999, 19.283332589072018),\n",
        " (24.5, 21.575805196159006),\n",
        " (13.4, 12.688301292364912),\n",
        " (24.699999999999999, 25.554784320181046),\n",
        " (22.399999999999999, 23.26858914285625),\n",
        " (24.800000000000001, 26.033207337971547),\n",
        " (24.300000000000001, 24.754651456581392),\n",
        " (23.899999999999999, 24.542911071549291),\n",
        " (17.800000000000001, 16.228332620795072),\n",
        " (23.5, 30.929783460559186),\n",
        " (13.5, 12.897449684949869),\n",
        " (19.899999999999999, 19.691603528682048),\n",
        " (13.1, 20.891665569553048),\n",
        " (17.399999999999999, 23.344015961530847),\n",
        " (21.699999999999999, 22.521940556151769),\n",
        " (15.199999999999999, 12.345575004963989),\n",
        " (30.300000000000001, 33.188978135607229),\n",
        " (13.800000000000001, 10.450087916720312),\n",
        " (18.899999999999999, 22.300935780967265),\n",
        " (12.699999999999999, 10.523689835185507),\n",
        " (13.9, 17.241288857268461)]"
       ]
      }
     ],
     "prompt_number": 39
    },
    {
     "cell_type": "code",
     "collapsed": false,
     "input": [
      "from sklearn import linear_model\n",
      "linreg = linear_model.LinearRegression()\n",
      "_=linreg.fit(train_data, train_target)"
     ],
     "language": "python",
     "metadata": {},
     "outputs": [],
     "prompt_number": 40
    },
    {
     "cell_type": "code",
     "collapsed": false,
     "input": [
      "#mean squared error \n",
      "from sklearn import metrics\n",
      "mse = metrics.mean_squared_error(test_target, linreg.predict(test_data)) \n",
      "print(\"MSE is {}\".format(mse))"
     ],
     "language": "python",
     "metadata": {},
     "outputs": [
      {
       "output_type": "stream",
       "stream": "stdout",
       "text": [
        "MSE is 22.3599970009\n"
       ]
      }
     ],
     "prompt_number": 41
    },
    {
     "cell_type": "code",
     "collapsed": false,
     "input": [
      "rmse = np.sqrt(mse) \n",
      "print(\"RMSE is {}\".format(rmse))"
     ],
     "language": "python",
     "metadata": {},
     "outputs": [
      {
       "output_type": "stream",
       "stream": "stdout",
       "text": [
        "RMSE is 4.72863584989\n"
       ]
      }
     ],
     "prompt_number": 42
    },
    {
     "cell_type": "code",
     "collapsed": false,
     "input": [
      "linreg.fit(train_data, train_target)\n",
      "r2_train = metrics.r2_score(train_target, linreg.predict(train_data))\n",
      "r2_test = metrics.r2_score(test_target, linreg.predict(test_data))\n",
      "\n",
      "print(\"R2 on training: {:.3%}\".format(r2_train))\n",
      "print(\"R2 on testing: {:.3%}\".format(r2_test))"
     ],
     "language": "python",
     "metadata": {},
     "outputs": [
      {
       "output_type": "stream",
       "stream": "stdout",
       "text": [
        "R2 on training: 74.214%\n",
        "R2 on testing: 72.748%\n"
       ]
      }
     ],
     "prompt_number": 43
    },
    {
     "cell_type": "code",
     "collapsed": false,
     "input": [
      "lasso = linear_model.Lasso()\n",
      "lasso.fit(train_data, train_target)"
     ],
     "language": "python",
     "metadata": {},
     "outputs": [
      {
       "metadata": {},
       "output_type": "pyout",
       "prompt_number": 44,
       "text": [
        "Lasso(alpha=1.0, copy_X=True, fit_intercept=True, max_iter=1000,\n",
        "   normalize=False, positive=False, precompute='auto', tol=0.0001,\n",
        "   warm_start=False)"
       ]
      }
     ],
     "prompt_number": 44
    },
    {
     "cell_type": "code",
     "collapsed": false,
     "input": [
      "lasso = linear_model.Lasso(alpha=0.1)\n",
      "lasso.fit(train_data, train_target)"
     ],
     "language": "python",
     "metadata": {},
     "outputs": [
      {
       "metadata": {},
       "output_type": "pyout",
       "prompt_number": 45,
       "text": [
        "Lasso(alpha=0.1, copy_X=True, fit_intercept=True, max_iter=1000,\n",
        "   normalize=False, positive=False, precompute='auto', tol=0.0001,\n",
        "   warm_start=False)"
       ]
      }
     ],
     "prompt_number": 45
    },
    {
     "cell_type": "code",
     "collapsed": false,
     "input": [
      "lasso = linear_model.Lasso(normalize=True, alpha=1.0)\n",
      "lasso.fit(train_data, train_target)"
     ],
     "language": "python",
     "metadata": {},
     "outputs": [
      {
       "metadata": {},
       "output_type": "pyout",
       "prompt_number": 46,
       "text": [
        "Lasso(alpha=1.0, copy_X=True, fit_intercept=True, max_iter=1000,\n",
        "   normalize=True, positive=False, precompute='auto', tol=0.0001,\n",
        "   warm_start=False)"
       ]
      }
     ],
     "prompt_number": 46
    },
    {
     "cell_type": "code",
     "collapsed": false,
     "input": [
      "lasso.fit(train_data, train_target)\n",
      "r2_lasso_train = lasso.score(train_data, train_target)\n",
      "r2_lasso = lasso.score(test_data, test_target)"
     ],
     "language": "python",
     "metadata": {},
     "outputs": [],
     "prompt_number": 47
    },
    {
     "cell_type": "code",
     "collapsed": false,
     "input": [
      "results = \"\"\"\\\n",
      "      | TRAINING | TESTING\n",
      "------+----------+---------\n",
      "Lasso | {:.3%}   | {:.3%}\n",
      "---------------------------\n",
      "\"\"\".format(r2_lasso_train, r2_lasso)\n",
      "print(results)"
     ],
     "language": "python",
     "metadata": {},
     "outputs": [
      {
       "output_type": "stream",
       "stream": "stdout",
       "text": [
        "      | TRAINING | TESTING\n",
        "------+----------+---------\n",
        "Lasso | 0.000%   | -0.301%\n",
        "---------------------------\n",
        "\n"
       ]
      }
     ],
     "prompt_number": 48
    },
    {
     "cell_type": "code",
     "collapsed": false,
     "input": [
      "lasso = linear_model.Lasso(normalize=True, alpha=10.0)\n",
      "lasso.fit(train_data, train_target)"
     ],
     "language": "python",
     "metadata": {},
     "outputs": [
      {
       "metadata": {},
       "output_type": "pyout",
       "prompt_number": 49,
       "text": [
        "Lasso(alpha=10.0, copy_X=True, fit_intercept=True, max_iter=1000,\n",
        "   normalize=True, positive=False, precompute='auto', tol=0.0001,\n",
        "   warm_start=False)"
       ]
      }
     ],
     "prompt_number": 49
    },
    {
     "cell_type": "code",
     "collapsed": false,
     "input": [
      "lasso.fit(train_data, train_target)\n",
      "r2_lasso_train = lasso.score(train_data, train_target)\n",
      "r2_lasso = lasso.score(test_data, test_target)"
     ],
     "language": "python",
     "metadata": {},
     "outputs": [],
     "prompt_number": 50
    },
    {
     "cell_type": "code",
     "collapsed": false,
     "input": [
      "results = \"\"\"\\\n",
      "      | TRAINING | TESTING\n",
      "------+----------+---------\n",
      "Lasso | {:.6%}   | {:.6%}\n",
      "---------------------------\n",
      "\"\"\".format(r2_lasso_train, r2_lasso)\n",
      "print(results)\n",
      " "
     ],
     "language": "python",
     "metadata": {},
     "outputs": [
      {
       "output_type": "stream",
       "stream": "stdout",
       "text": [
        "      | TRAINING | TESTING\n",
        "------+----------+---------\n",
        "Lasso | 0.000000%   | -0.300623%\n",
        "---------------------------\n",
        "\n"
       ]
      }
     ],
     "prompt_number": 51
    },
    {
     "cell_type": "code",
     "collapsed": false,
     "input": [
      "results = \"\"\"\\\n",
      "      | TRAINING | TESTING\n",
      "------+----------+---------\n",
      "Lasso | {:.3%}   | {:.3%}\n",
      "---------------------------\n",
      "\"\"\".format(r2_lasso_train, r2_lasso)\n",
      "print(results)"
     ],
     "language": "python",
     "metadata": {},
     "outputs": [
      {
       "output_type": "stream",
       "stream": "stdout",
       "text": [
        "      | TRAINING | TESTING\n",
        "------+----------+---------\n",
        "Lasso | 0.000%   | -0.301%\n",
        "---------------------------\n",
        "\n"
       ]
      }
     ],
     "prompt_number": 52
    },
    {
     "cell_type": "code",
     "collapsed": false,
     "input": [
      "lasso = linear_model.Lasso(normalize=True, alpha=1.0)\n",
      "lasso.fit(train_data, train_target)"
     ],
     "language": "python",
     "metadata": {},
     "outputs": [
      {
       "metadata": {},
       "output_type": "pyout",
       "prompt_number": 53,
       "text": [
        "Lasso(alpha=1.0, copy_X=True, fit_intercept=True, max_iter=1000,\n",
        "   normalize=True, positive=False, precompute='auto', tol=0.0001,\n",
        "   warm_start=False)"
       ]
      }
     ],
     "prompt_number": 53
    },
    {
     "cell_type": "code",
     "collapsed": false,
     "input": [
      "lasso.fit(train_data, train_target)\n",
      "r2_lasso_train = lasso.score(train_data, train_target)\n",
      "r2_lasso = lasso.score(test_data, test_target)"
     ],
     "language": "python",
     "metadata": {},
     "outputs": [],
     "prompt_number": 54
    },
    {
     "cell_type": "code",
     "collapsed": false,
     "input": [
      "results = \"\"\"\\\n",
      "      | TRAINING | TESTING\n",
      "------+----------+---------\n",
      "Lasso | {:.3%}   | {:.3%}\n",
      "---------------------------\n",
      "\"\"\".format(r2_lasso_train, r2_lasso)\n",
      "print(results)"
     ],
     "language": "python",
     "metadata": {},
     "outputs": [
      {
       "output_type": "stream",
       "stream": "stdout",
       "text": [
        "      | TRAINING | TESTING\n",
        "------+----------+---------\n",
        "Lasso | 0.000%   | -0.301%\n",
        "---------------------------\n",
        "\n"
       ]
      }
     ],
     "prompt_number": 55
    },
    {
     "cell_type": "code",
     "collapsed": false,
     "input": [
      "#Comparing Ridge and Lasso\n",
      "ridge = linear_model.Ridge(normalize=True, alpha=.1)\n",
      "\n",
      "ridge.fit(train_data, train_target)\n",
      "r2_ridge_train = ridge.score(train_data, train_target)\n",
      "r2_ridge = ridge.score(test_data, test_target)"
     ],
     "language": "python",
     "metadata": {},
     "outputs": [],
     "prompt_number": 56
    },
    {
     "cell_type": "code",
     "collapsed": false,
     "input": [
      "results = \"\"\"\\\n",
      "      | TRAINING | TESTING\n",
      "------+----------+---------\n",
      "Lasso | {:.3%}   | {:.3%}\n",
      "------+----------+---------\n",
      "Ridge | {:.3%}   | {:.3%}\n",
      "---------------------------\n",
      "\"\"\".format(r2_lasso_train, r2_lasso,\n",
      "           r2_ridge_train, r2_ridge)\n",
      "print(results)"
     ],
     "language": "python",
     "metadata": {},
     "outputs": [
      {
       "output_type": "stream",
       "stream": "stdout",
       "text": [
        "      | TRAINING | TESTING\n",
        "------+----------+---------\n",
        "Lasso | 0.000%   | -0.301%\n",
        "------+----------+---------\n",
        "Ridge | 73.382%   | 71.053%\n",
        "---------------------------\n",
        "\n"
       ]
      }
     ],
     "prompt_number": 57
    },
    {
     "cell_type": "code",
     "collapsed": false,
     "input": [
      "lasso = linear_model.Lasso(normalize=True, alpha=0.1)\n",
      "lasso.fit(train_data, train_target)"
     ],
     "language": "python",
     "metadata": {},
     "outputs": [
      {
       "metadata": {},
       "output_type": "pyout",
       "prompt_number": 58,
       "text": [
        "Lasso(alpha=0.1, copy_X=True, fit_intercept=True, max_iter=1000,\n",
        "   normalize=True, positive=False, precompute='auto', tol=0.0001,\n",
        "   warm_start=False)"
       ]
      }
     ],
     "prompt_number": 58
    },
    {
     "cell_type": "code",
     "collapsed": false,
     "input": [
      "lasso.fit(train_data, train_target)\n",
      "\n",
      "r2_lasso_train = lasso.score(train_data, train_target)\n",
      "r2_lasso = lasso.score(test_data, test_target)"
     ],
     "language": "python",
     "metadata": {},
     "outputs": [],
     "prompt_number": 59
    },
    {
     "cell_type": "code",
     "collapsed": false,
     "input": [
      "results = \"\"\"\\\n",
      "      | TRAINING | TESTING\n",
      "------+----------+---------\n",
      "Lasso | {:.3%}   | {:.3%}\n",
      "---------------------------\n",
      "\"\"\".format(r2_lasso_train, r2_lasso)\n",
      "print(results)"
     ],
     "language": "python",
     "metadata": {},
     "outputs": [
      {
       "output_type": "stream",
       "stream": "stdout",
       "text": [
        "      | TRAINING | TESTING\n",
        "------+----------+---------\n",
        "Lasso | 61.219%   | 57.295%\n",
        "---------------------------\n",
        "\n"
       ]
      }
     ],
     "prompt_number": 60
    },
    {
     "cell_type": "code",
     "collapsed": false,
     "input": [
      "results = \"\"\"\\\n",
      "      | TRAINING | TESTING\n",
      "------+----------+---------\n",
      "Lasso | {:.3%}   | {:.3%}\n",
      "------+----------+---------\n",
      "Ridge | {:.3%}   | {:.3%}\n",
      "---------------------------\n",
      "\"\"\".format(r2_lasso_train, r2_lasso,\n",
      "           r2_ridge_train, r2_ridge)\n",
      "print(results)"
     ],
     "language": "python",
     "metadata": {},
     "outputs": [
      {
       "output_type": "stream",
       "stream": "stdout",
       "text": [
        "      | TRAINING | TESTING\n",
        "------+----------+---------\n",
        "Lasso | 61.219%   | 57.295%\n",
        "------+----------+---------\n",
        "Ridge | 73.382%   | 71.053%\n",
        "---------------------------\n",
        "\n"
       ]
      }
     ],
     "prompt_number": 61
    },
    {
     "cell_type": "code",
     "collapsed": false,
     "input": [
      "lasso.alpha = 0.1\n",
      "lasso.fit(train_data, train_target)\n",
      "ridge.alpha = 0.1\n",
      "ridge.fit(train_data, train_target)"
     ],
     "language": "python",
     "metadata": {},
     "outputs": [
      {
       "metadata": {},
       "output_type": "pyout",
       "prompt_number": 62,
       "text": [
        "Ridge(alpha=0.1, copy_X=True, fit_intercept=True, max_iter=None,\n",
        "   normalize=True, solver='auto', tol=0.001)"
       ]
      }
     ],
     "prompt_number": 62
    },
    {
     "cell_type": "code",
     "collapsed": false,
     "input": [
      "from sklearn.metrics import r2_score\n",
      "y_true = [3, -0.5, 2, 7]\n",
      "y_pred = [2.5, 0.0, 2, 8]\n",
      "r2_score(y_true, y_pred)  "
     ],
     "language": "python",
     "metadata": {},
     "outputs": [
      {
       "metadata": {},
       "output_type": "pyout",
       "prompt_number": 63,
       "text": [
        "0.94860813704496794"
       ]
      }
     ],
     "prompt_number": 63
    },
    {
     "cell_type": "code",
     "collapsed": false,
     "input": [
      "y_true = [[0.5, 1], [-1, 1], [7, -6]]\n",
      "y_pred = [[0, 2], [-1, 2], [8, -5]]\n",
      "r2_score(y_true, y_pred)  "
     ],
     "language": "python",
     "metadata": {},
     "outputs": [
      {
       "metadata": {},
       "output_type": "pyout",
       "prompt_number": 64,
       "text": [
        "0.93825665859564167"
       ]
      }
     ],
     "prompt_number": 64
    },
    {
     "cell_type": "code",
     "collapsed": false,
     "input": [
      "from sklearn.metrics import mean_squared_error\n",
      "y_true = [3, -1, 6, 4]\n",
      "y_pred = [2.5, 1, 2, 8]\n",
      "mean_squared_error(y_true, y_pred)"
     ],
     "language": "python",
     "metadata": {},
     "outputs": [
      {
       "metadata": {},
       "output_type": "pyout",
       "prompt_number": 65,
       "text": [
        "9.0625"
       ]
      }
     ],
     "prompt_number": 65
    },
    {
     "cell_type": "code",
     "collapsed": false,
     "input": [
      "y_true = [[-0.5, 1],[-1, 1],[7, -6]]\n",
      "y_pred = [[0, -2],[-1, 2],[8, -5]]\n",
      "mean_squared_error(y_true, y_pred)"
     ],
     "language": "python",
     "metadata": {},
     "outputs": [
      {
       "metadata": {},
       "output_type": "pyout",
       "prompt_number": 66,
       "text": [
        "2.0416666666666665"
       ]
      }
     ],
     "prompt_number": 66
    },
    {
     "cell_type": "code",
     "collapsed": false,
     "input": [],
     "language": "python",
     "metadata": {},
     "outputs": []
    }
   ],
   "metadata": {}
  }
 ]
}