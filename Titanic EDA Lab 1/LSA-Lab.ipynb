{
 "metadata": {
  "name": "",
  "signature": "sha256:20cf943c317e97102bdc31b49d5cc7f3bdae1988ef3a6e76751bab642ca21d15"
 },
 "nbformat": 3,
 "nbformat_minor": 0,
 "worksheets": [
  {
   "cells": [
    {
     "cell_type": "markdown",
     "metadata": {},
     "source": [
      "First we will get the newsgroup data which we are using for this lab"
     ]
    },
    {
     "cell_type": "code",
     "collapsed": false,
     "input": [
      "from sklearn.datasets import fetch_20newsgroups\n",
      "categories = ['rec.sport.baseball']\n",
      "dataset = fetch_20newsgroups(subset='all',shuffle=True, random_state=42, categories=categories)\n",
      "corpus = dataset.data"
     ],
     "language": "python",
     "metadata": {},
     "outputs": [],
     "prompt_number": 1
    },
    {
     "cell_type": "code",
     "collapsed": false,
     "input": [
      "from bs4 import BeautifulSoup\n",
      "import nltk\n",
      "from nltk.corpus import stopwords\n",
      "from sklearn.feature_extraction.text import TfidfVectorizer\n",
      "from sklearn.decomposition import TruncatedSVD"
     ],
     "language": "python",
     "metadata": {},
     "outputs": [],
     "prompt_number": 2
    },
    {
     "cell_type": "code",
     "collapsed": false,
     "input": [
      "nltk.download('stopwords')"
     ],
     "language": "python",
     "metadata": {},
     "outputs": [
      {
       "output_type": "stream",
       "stream": "stdout",
       "text": [
        "[nltk_data] Downloading package stopwords to\n",
        "[nltk_data]     C:\\Users\\Maheshwar\\AppData\\Roaming\\nltk_data...\n",
        "[nltk_data]   Package stopwords is already up-to-date!\n"
       ]
      },
      {
       "metadata": {},
       "output_type": "pyout",
       "prompt_number": 3,
       "text": [
        "True"
       ]
      }
     ],
     "prompt_number": 3
    },
    {
     "cell_type": "markdown",
     "metadata": {},
     "source": [
      "Now we will use a built in list of stopwords from nltk"
     ]
    },
    {
     "cell_type": "code",
     "collapsed": false,
     "input": [
      "stopset = set(stopwords.words('english'))\n",
      "stopset.update(['lt','p','/p','br','amp','quot','field','font','normal','span','0px','rgb','style','51', \n",
      "                'spacing','text','helvetica','size','family', 'space', 'arial', 'height', 'indent', 'letter'\n",
      "                'line','none','sans','serif','transform','line','variant','weight','times', 'new','strong', 'video', 'title'\n",
      "                'white','word','letter', 'roman','0pt','16','color','12','14','21', 'neue', 'apple', 'class','re', 'cs', '00 00', 'com', '00 00 000', 'aix', '00 00 00', '00', 'ca', '00 00 01', 've', '000', '000 000', '000 000 000','001', '100', '10', '01', '000th', '001211 18457', '001211', '18457', '002 755', '002', '755', '002251w', '002'   ])\n"
     ],
     "language": "python",
     "metadata": {},
     "outputs": [],
     "prompt_number": 4
    },
    {
     "cell_type": "markdown",
     "metadata": {},
     "source": [
      "use scikit-learn's TF-IDF vectorizer to take corpus and convert each document into a sparse matrix of TFIDF Features"
     ]
    },
    {
     "cell_type": "code",
     "collapsed": false,
     "input": [
      "#Before\n",
      "corpus[0]"
     ],
     "language": "python",
     "metadata": {},
     "outputs": [
      {
       "metadata": {},
       "output_type": "pyout",
       "prompt_number": 5,
       "text": [
        "u\"From: writingctr@leo.bsuvc.bsu.edu\\nSubject: Re: CUB fever.\\nOrganization: Ball State University, Muncie, In - Univ. Computing Svc's\\nLines: 21\\n\\n\\nIn article <kingoz.735285670@camelot>, kingoz@camelot.bradley.edu (Orin Roth) writes:\\n> \\n>    CUB fever is hitting me again. I'm beginning to think they have a \\n>    chance this year. (what the heck am i thinking?)\\n>    Sorry. Just a moment of incompetence.\\n>    I'll be ok. Really. \\n>    Orin.\\n>    Bradley U.\\n> \\n> --\\n> I'm really a jester in disguise!                                   \\nI hear ya!  Then again, we must remember that we are indeed Cub fans, and\\nthat the Cubs will eventually blow it.  After all, the Cubs are the easiest\\nteam in the National League to root for.  No Pressure.  You know they will\\nlose eventually.  Oh well, I suppose we must have faith.  After all, they\\ndo look pretty good, and they don't even have Sandberg back yet.  \\n\\nCUBS IN '93!!!!!\\n\\nCHA\\n\""
       ]
      }
     ],
     "prompt_number": 5
    },
    {
     "cell_type": "code",
     "collapsed": false,
     "input": [
      "vectorizer = TfidfVectorizer(stop_words=stopset,\n",
      "                                 use_idf=True, ngram_range=(1, 3))\n",
      "X = vectorizer.fit_transform(corpus)"
     ],
     "language": "python",
     "metadata": {},
     "outputs": [],
     "prompt_number": 6
    },
    {
     "cell_type": "code",
     "collapsed": false,
     "input": [
      "X[0]"
     ],
     "language": "python",
     "metadata": {},
     "outputs": [
      {
       "metadata": {},
       "output_type": "pyout",
       "prompt_number": 7,
       "text": [
        "<1x188572 sparse matrix of type '<type 'numpy.float64'>'\n",
        "\twith 232 stored elements in Compressed Sparse Row format>"
       ]
      }
     ],
     "prompt_number": 7
    },
    {
     "cell_type": "code",
     "collapsed": false,
     "input": [
      "#After\n",
      "print X[0]"
     ],
     "language": "python",
     "metadata": {},
     "outputs": [
      {
       "output_type": "stream",
       "stream": "stdout",
       "text": [
        "  (0, 49958)\t0.0735747611796\n",
        "  (0, 187837)\t0.0735747611796\n",
        "  (0, 28179)\t0.0735747611796\n",
        "  (0, 144859)\t0.0735747611796\n",
        "  (0, 63018)\t0.0735747611796\n",
        "  (0, 76563)\t0.0735747611796\n",
        "  (0, 132110)\t0.0735747611796\n",
        "  (0, 102253)\t0.0735747611796\n",
        "  (0, 65405)\t0.0735747611796\n",
        "  (0, 113419)\t0.0735747611796\n",
        "  (0, 161728)\t0.0735747611796\n",
        "  (0, 179483)\t0.0735747611796\n",
        "  (0, 118555)\t0.0735747611796\n",
        "  (0, 63154)\t0.0735747611796\n",
        "  (0, 102747)\t0.0735747611796\n",
        "  (0, 94316)\t0.0735747611796\n",
        "  (0, 132025)\t0.0735747611796\n",
        "  (0, 142013)\t0.0735747611796\n",
        "  (0, 96932)\t0.0735747611796\n",
        "  (0, 114060)\t0.0735747611796\n",
        "  (0, 164100)\t0.0735747611796\n",
        "  (0, 58217)\t0.0735747611796\n",
        "  (0, 49998)\t0.0735747611796\n",
        "  (0, 34964)\t0.0735747611796\n",
        "  (0, 63144)\t0.0735747611796\n",
        "  :\t:\n",
        "  (0, 184396)\t0.0155731686153\n",
        "  (0, 142249)\t0.0552896474024\n",
        "  (0, 121223)\t0.110579294805\n",
        "  (0, 36761)\t0.0991574063989\n",
        "  (0, 39756)\t0.104707636787\n",
        "  (0, 15720)\t0.0735747611796\n",
        "  (0, 93696)\t0.110579294805\n",
        "  (0, 24989)\t0.0161075899983\n",
        "  (0, 99618)\t0.0102668409887\n",
        "  (0, 162317)\t0.0607901693813\n",
        "  (0, 46703)\t0.0388651463176\n",
        "  (0, 173776)\t0.0392111155954\n",
        "  (0, 113217)\t0.0607901693813\n",
        "  (0, 173811)\t0.0179682026906\n",
        "  (0, 157401)\t0.0372920207012\n",
        "  (0, 28701)\t0.0306653839646\n",
        "  (0, 120611)\t0.0102874991259\n",
        "  (0, 66952)\t0.124726589995\n",
        "  (0, 49882)\t0.161149565358\n",
        "  (0, 160234)\t0.0102051163067\n",
        "  (0, 58721)\t0.0237695577501\n",
        "  (0, 38003)\t0.0506000665344\n",
        "  (0, 38013)\t0.0506000665344\n",
        "  (0, 97959)\t0.0495787031995\n",
        "  (0, 185332)\t0.0735747611796\n"
       ]
      }
     ],
     "prompt_number": 8
    },
    {
     "cell_type": "code",
     "collapsed": false,
     "input": [
      "X.shape\n"
     ],
     "language": "python",
     "metadata": {},
     "outputs": [
      {
       "metadata": {},
       "output_type": "pyout",
       "prompt_number": 9,
       "text": [
        "(994, 188572)"
       ]
      }
     ],
     "prompt_number": 9
    },
    {
     "cell_type": "code",
     "collapsed": false,
     "input": [
      "lsa = TruncatedSVD(n_components=27, n_iter=100)\n",
      "lsa.fit(X)"
     ],
     "language": "python",
     "metadata": {},
     "outputs": [
      {
       "metadata": {},
       "output_type": "pyout",
       "prompt_number": 10,
       "text": [
        "TruncatedSVD(algorithm='randomized', n_components=27, n_iter=100,\n",
        "       random_state=None, tol=0.0)"
       ]
      }
     ],
     "prompt_number": 10
    },
    {
     "cell_type": "code",
     "collapsed": false,
     "input": [
      "lsa.components_[0]"
     ],
     "language": "python",
     "metadata": {},
     "outputs": [
      {
       "metadata": {},
       "output_type": "pyout",
       "prompt_number": 11,
       "text": [
        "array([ 0.00052799,  0.00052799,  0.00052799, ...,  0.00110435,\n",
        "        0.00110435,  0.00110435])"
       ]
      }
     ],
     "prompt_number": 11
    },
    {
     "cell_type": "code",
     "collapsed": false,
     "input": [
      "terms = vectorizer.get_feature_names()\n",
      "for i, comp in enumerate(lsa.components_): \n",
      "    termsInComp = zip (terms,comp)\n",
      "    sortedTerms =  sorted(termsInComp, key=lambda x: x[1], reverse=True) [:10]\n",
      "    print \"Concept %d:\" % i\n",
      "    for term in sortedTerms:\n",
      "        print term[0]\n",
      "    print \" \"\n",
      "    "
     ],
     "language": "python",
     "metadata": {},
     "outputs": [
      {
       "output_type": "stream",
       "stream": "stdout",
       "text": [
        "Concept 0:\n",
        "edu\n",
        "year\n",
        "writes\n",
        "team\n",
        "would\n",
        "game\n",
        "article\n",
        "baseball\n",
        "players\n",
        "games\n",
        " \n",
        "Concept 1:"
       ]
      },
      {
       "output_type": "stream",
       "stream": "stdout",
       "text": [
        "\n",
        "jewish\n",
        "article\n",
        "lafayette\n",
        "lafibm\n",
        "vb30\n",
        "jewish baseball players\n",
        "players\n",
        "subject\n",
        "jewish baseball\n",
        "netcom\n",
        " \n",
        "Concept 2:"
       ]
      },
      {
       "output_type": "stream",
       "stream": "stdout",
       "text": [
        "\n",
        "edu\n",
        "writes\n",
        "0010 music\n",
        "nntp\n",
        "years\n",
        "might\n",
        "anyone\n",
        "lines\n",
        "organization\n",
        "people\n",
        " \n",
        "Concept 3:"
       ]
      },
      {
       "output_type": "stream",
       "stream": "stdout",
       "text": [
        "\n",
        "team\n",
        "games\n",
        "pitcher\n",
        "organization university\n",
        "uiuc\n",
        "division\n",
        "david\n",
        "least\n",
        "morris\n",
        "red\n",
        " \n",
        "Concept 4:"
       ]
      },
      {
       "output_type": "stream",
       "stream": "stdout",
       "text": [
        "\n",
        "games\n",
        "last\n",
        "two\n",
        "team\n",
        "could\n",
        "hit\n",
        "trying\n",
        "bad\n",
        "university\n",
        "know\n",
        " \n",
        "Concept 5:"
       ]
      },
      {
       "output_type": "stream",
       "stream": "stdout",
       "text": [
        "\n",
        "game\n",
        "baseball\n",
        "players\n",
        "like\n",
        "best\n",
        "time\n",
        "average\n",
        "sure\n",
        "something\n",
        "well\n",
        " \n",
        "Concept 6:"
       ]
      },
      {
       "output_type": "stream",
       "stream": "stdout",
       "text": [
        "\n",
        "0010 music\n",
        "win\n",
        "maybe\n",
        "best\n",
        "organization\n",
        "get\n",
        "won\n",
        "lines\n",
        "sox\n",
        "believe\n",
        " \n",
        "Concept 7:"
       ]
      },
      {
       "output_type": "stream",
       "stream": "stdout",
       "text": [
        "\n",
        "players\n",
        "year\n",
        "good\n",
        "0023 lafibm\n",
        "one\n",
        "gant\n",
        "time\n",
        "game\n",
        "get\n",
        "scott\n",
        " \n",
        "Concept 8:"
       ]
      },
      {
       "output_type": "stream",
       "stream": "stdout",
       "text": [
        "\n",
        "also\n",
        "last\n",
        "go\n",
        "really\n",
        "games\n",
        "think\n",
        "nntp posting host\n",
        "posting host\n",
        "organization\n",
        "hit\n",
        " \n",
        "Concept 9:"
       ]
      },
      {
       "output_type": "stream",
       "stream": "stdout",
       "text": [
        "\n",
        "team\n",
        "think\n",
        "003 759 lankford\n",
        "one\n",
        "know\n",
        "first\n",
        "game\n",
        "braves\n",
        "two\n",
        "teams\n",
        " \n",
        "Concept 10:"
       ]
      },
      {
       "output_type": "stream",
       "stream": "stdout",
       "text": [
        "\n",
        "article\n",
        "year\n",
        "know\n",
        "one\n",
        "subject\n",
        "also\n",
        "first\n",
        "0023 lafibm\n",
        "series\n",
        "run\n",
        " \n",
        "Concept 11:"
       ]
      },
      {
       "output_type": "stream",
       "stream": "stdout",
       "text": [
        "\n",
        "team\n",
        "host\n",
        "subject\n",
        "nntp posting host\n",
        "posting host\n",
        "bonds\n",
        "runs\n",
        "nntp posting\n",
        "university\n",
        "run\n",
        " \n",
        "Concept 12:"
       ]
      },
      {
       "output_type": "stream",
       "stream": "stdout",
       "text": [
        "\n",
        "best\n",
        "article\n",
        "003 759 lankford\n",
        "first\n",
        "hit\n",
        "time\n",
        "team\n",
        "morris\n",
        "nntp posting\n",
        "last\n",
        " \n",
        "Concept 13:"
       ]
      },
      {
       "output_type": "stream",
       "stream": "stdout",
       "text": [
        "\n",
        "team\n",
        "article\n",
        "year\n",
        "know\n",
        "last\n",
        "player\n",
        "runs\n",
        "nntp\n",
        "game\n",
        "league\n",
        " \n",
        "Concept 14:"
       ]
      },
      {
       "output_type": "stream",
       "stream": "stdout",
       "text": [
        "\n",
        "university\n",
        "pitching\n",
        "organization\n",
        "may\n",
        "gant\n",
        "much\n",
        "subject\n",
        "003 759 lankford\n",
        "mets\n",
        "0023 lafibm lafayette\n",
        " \n",
        "Concept 15:"
       ]
      },
      {
       "output_type": "stream",
       "stream": "stdout",
       "text": [
        "\n",
        "like\n",
        "runs\n",
        "organization university\n",
        "best\n",
        "0023 lafibm lafayette\n",
        "would\n",
        "nntp posting host\n",
        "posting host\n",
        "list\n",
        "could\n",
        " \n",
        "Concept 16:"
       ]
      },
      {
       "output_type": "stream",
       "stream": "stdout",
       "text": [
        "\n",
        "get\n",
        "games\n",
        "players\n",
        "would\n",
        "organization university\n",
        "even\n",
        "player\n",
        "first\n",
        "best\n",
        "writes\n",
        " \n",
        "Concept 17:"
       ]
      },
      {
       "output_type": "stream",
       "stream": "stdout",
       "text": [
        "\n",
        "would\n",
        "003 759 lankford\n",
        "hit\n",
        "university\n",
        "0010 music\n",
        "posting\n",
        "lines\n",
        "nntp\n",
        "team\n",
        "anyone\n",
        " \n",
        "Concept 18:"
       ]
      },
      {
       "output_type": "stream",
       "stream": "stdout",
       "text": [
        "\n",
        "game\n",
        "hit\n",
        "see\n",
        "organization\n",
        "003\n",
        "hitter\n",
        "come\n",
        "say\n",
        "posting\n",
        "subject\n",
        " \n",
        "Concept 19:"
       ]
      },
      {
       "output_type": "stream",
       "stream": "stdout",
       "text": [
        "\n",
        "year\n",
        "think\n",
        "0023 lafibm lafayette\n",
        "time\n",
        "way\n",
        "better\n",
        "two\n",
        "game\n",
        "ll\n",
        "batting\n",
        " \n",
        "Concept 20:"
       ]
      },
      {
       "output_type": "stream",
       "stream": "stdout",
       "text": [
        "\n",
        "baseball\n",
        "first\n",
        "hit\n",
        "host\n",
        "better\n",
        "0023 lafibm lafayette\n",
        "subject\n",
        "university\n",
        "sox\n",
        "know\n",
        " \n",
        "Concept 21:"
       ]
      },
      {
       "output_type": "stream",
       "stream": "stdout",
       "text": [
        "\n",
        "posting\n",
        "year\n",
        "years\n",
        "win\n",
        "hit\n",
        "doesn\n",
        "bad\n",
        "much\n",
        "pitcher\n",
        "winning\n",
        " \n",
        "Concept 22:"
       ]
      },
      {
       "output_type": "stream",
       "stream": "stdout",
       "text": [
        "\n",
        "0000ahc udcps3 cps\n",
        "university\n",
        "one\n",
        "game\n",
        "also\n",
        "win\n",
        "much\n",
        "go\n",
        "well\n",
        "writes\n",
        " \n",
        "Concept 23:"
       ]
      },
      {
       "output_type": "stream",
       "stream": "stdout",
       "text": [
        "\n",
        "organization\n",
        "003 759\n",
        "host\n",
        "subject\n",
        "back\n",
        "0010 music lib\n",
        "season\n",
        "year\n",
        "0000ahc udcps3 cps\n",
        "players\n",
        " \n",
        "Concept 24:"
       ]
      },
      {
       "output_type": "stream",
       "stream": "stdout",
       "text": [
        "\n",
        "article\n",
        "edu\n",
        "0000ahc udcps3 cps\n",
        "would\n",
        "posting\n",
        "0010\n",
        "writes\n",
        "subject\n",
        "003 759 lankford\n",
        "baseball\n",
        " \n",
        "Concept 25:"
       ]
      },
      {
       "output_type": "stream",
       "stream": "stdout",
       "text": [
        "\n",
        "baseball\n",
        "would\n",
        "best\n",
        "two\n",
        "distribution\n",
        "game\n",
        "hit\n",
        "writes\n",
        "know\n",
        "003\n",
        " \n",
        "Concept 26:"
       ]
      },
      {
       "output_type": "stream",
       "stream": "stdout",
       "text": [
        "\n",
        "0010 music\n",
        "subject\n",
        "good\n",
        "003\n",
        "year\n",
        "0000ahc udcps3 cps\n",
        "host\n",
        "best\n",
        "won\n",
        "better\n",
        " \n"
       ]
      }
     ],
     "prompt_number": 12
    },
    {
     "cell_type": "code",
     "collapsed": false,
     "input": [],
     "language": "python",
     "metadata": {},
     "outputs": []
    }
   ],
   "metadata": {}
  }
 ]
}